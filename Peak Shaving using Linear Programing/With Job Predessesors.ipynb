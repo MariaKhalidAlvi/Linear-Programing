{
 "cells": [
  {
   "cell_type": "code",
   "execution_count": 1,
   "metadata": {},
   "outputs": [],
   "source": [
    "import numpy as np\n",
    "import scipy.sparse as sp\n",
    "import gurobipy as gp\n",
    "from gurobipy import *"
   ]
  },
  {
   "cell_type": "markdown",
   "metadata": {},
   "source": [
    "## Jobs to be scheduled "
   ]
  },
  {
   "cell_type": "code",
   "execution_count": 2,
   "metadata": {},
   "outputs": [],
   "source": [
    "#Jobs = [\"Job1\", \"Job2\", \"Job3\", \"Job4\", \"Job5\", \"Job6\", \"Job7\" , \"Job8\"]\n",
    "jobs = [\"Job1\", \"Job2\", \"Job3\"]"
   ]
  },
  {
   "cell_type": "markdown",
   "metadata": {},
   "source": [
    "## Constants"
   ]
  },
  {
   "cell_type": "code",
   "execution_count": 3,
   "metadata": {},
   "outputs": [],
   "source": [
    "timeInMinutes = 12"
   ]
  },
  {
   "cell_type": "markdown",
   "metadata": {},
   "source": [
    "## Time slots available "
   ]
  },
  {
   "cell_type": "code",
   "execution_count": 4,
   "metadata": {
    "scrolled": true
   },
   "outputs": [],
   "source": [
    "timeSlots = [str(x) for x in range(timeInMinutes)]\n"
   ]
  },
  {
   "cell_type": "markdown",
   "metadata": {},
   "source": [
    "Details of each job including release time, processing time, usage and deadline"
   ]
  },
  {
   "cell_type": "code",
   "execution_count": 5,
   "metadata": {},
   "outputs": [],
   "source": [
    "jobs_details = { \"Job1\": { \"r\": 1, \"t\": 4, \"u\": 6,\"d\": 12 },\n",
    "                 \"Job2\": { \"r\": 4, \"t\": 3, \"u\": 5,\"d\": 10},\n",
    "                 \"Job3\": { \"r\": 2, \"t\": 5, \"u\": 7,\"d\": 12}\n",
    "                 #\"Job4\": { \"r\": 0.5, \"t\": 0.7, \"u\": 2,\"d\": 0.2},\n",
    "                 #\"Job5\": { \"r\": 0.5, \"t\": 0.7, \"u\": 3,\"d\": 0.2},\n",
    "                 #\"Job6\": { \"r\": 0.5, \"t\": 0.7, \"u\": 5,\"d\": 0.2},\n",
    "                 #\"Job7\": { \"r\": 0.5, \"t\": 0.7, \"u\": 6,\"d\": 0.2},\n",
    "                 #\"Job8\": { \"r\": 0.5, \"t\": 0.7, \"u\": 7,\"d\": 0.2}\n",
    "               }\n"
   ]
  },
  {
   "cell_type": "markdown",
   "metadata": {},
   "source": [
    "## Predecessor of each job"
   ]
  },
  {
   "cell_type": "code",
   "execution_count": 6,
   "metadata": {},
   "outputs": [],
   "source": [
    "jobs_predessors = { \"Job1\": [],\n",
    "                 \"Job2\": [],\n",
    "                 \"Job3\": [\"Job1\", \"Job2\"]\n",
    "                 #\"Job4\": [],\n",
    "                 #\"Job5\": [\"Job4\" , \"Job2\"],\n",
    "                 #\"Job6\": [],\n",
    "                 #\"Job7\": [\"Job6\"],\n",
    "                 #\"Job8\": []\n",
    "               }"
   ]
  },
  {
   "cell_type": "markdown",
   "metadata": {},
   "source": [
    "# Model Generation"
   ]
  },
  {
   "cell_type": "code",
   "execution_count": 7,
   "metadata": {},
   "outputs": [
    {
     "name": "stdout",
     "output_type": "stream",
     "text": [
      "Using license file C:\\Users\\wel\\gurobi.lic\n",
      "Academic license - for non-commercial use only\n"
     ]
    }
   ],
   "source": [
    "model = Model(\"Job Scheduling\")"
   ]
  },
  {
   "cell_type": "markdown",
   "metadata": {},
   "source": [
    "## Creating dictionary/variables to be filled"
   ]
  },
  {
   "cell_type": "code",
   "execution_count": 8,
   "metadata": {},
   "outputs": [],
   "source": [
    "maximumLoad =  model.addVar(vtype=GRB.CONTINUOUS, name= \"Maximum Load\")"
   ]
  },
  {
   "cell_type": "code",
   "execution_count": 9,
   "metadata": {
    "scrolled": true
   },
   "outputs": [],
   "source": [
    "decisionVariable = model.addVars(jobs, timeSlots, name=\"Decision Variable\" , vtype = GRB.BINARY)\n"
   ]
  },
  {
   "cell_type": "code",
   "execution_count": 10,
   "metadata": {
    "scrolled": true
   },
   "outputs": [],
   "source": [
    "startTime = {}\n",
    "for job in jobs:\n",
    "        startTime[job] = model.addVar(vtype=GRB.INTEGER, name= f'Start Time {job}')\n"
   ]
  },
  {
   "cell_type": "code",
   "execution_count": 11,
   "metadata": {},
   "outputs": [],
   "source": [
    "finishTime = {}\n",
    "for job in jobs:\n",
    "        finishTime[job] = model.addVar(vtype=GRB.INTEGER, name= f'Finish Time {job}')\n"
   ]
  },
  {
   "cell_type": "code",
   "execution_count": 12,
   "metadata": {},
   "outputs": [],
   "source": [
    "totalLoad = {}\n",
    "for time in timeSlots:\n",
    "        totalLoad[time] = model.addVar(vtype=GRB.CONTINUOUS, name= f'Total load at time {time}')"
   ]
  },
  {
   "cell_type": "markdown",
   "metadata": {},
   "source": [
    "## Adding constraints "
   ]
  },
  {
   "cell_type": "markdown",
   "metadata": {},
   "source": [
    "#### Atomocity Constraint\n",
    "Each job should be run only once\n",
    "$$\\underset{t}\\sum x_i(t) = 1 \\;\\;\\;\\; \\forall i$$"
   ]
  },
  {
   "cell_type": "code",
   "execution_count": 13,
   "metadata": {},
   "outputs": [
    {
     "data": {
      "text/plain": [
       "{'Job1': <gurobi.Constr *Awaiting Model Update*>,\n",
       " 'Job2': <gurobi.Constr *Awaiting Model Update*>,\n",
       " 'Job3': <gurobi.Constr *Awaiting Model Update*>}"
      ]
     },
     "execution_count": 13,
     "metadata": {},
     "output_type": "execute_result"
    }
   ],
   "source": [
    "model.addConstrs((quicksum(decisionVariable[job ,time] for time in timeSlots ) == 1 for job in jobs), name = \" Atomocity Constraint\")"
   ]
  },
  {
   "cell_type": "markdown",
   "metadata": {},
   "source": [
    "#### Start time of each job\n",
    "Start time of the $j_i$ is t where $x_i$ is $1$ \n",
    "$$s_i = \\underset{t}\\sum t.x_i(t)$$"
   ]
  },
  {
   "cell_type": "code",
   "execution_count": 14,
   "metadata": {},
   "outputs": [
    {
     "data": {
      "text/plain": [
       "{'Job1': <gurobi.Constr *Awaiting Model Update*>,\n",
       " 'Job2': <gurobi.Constr *Awaiting Model Update*>,\n",
       " 'Job3': <gurobi.Constr *Awaiting Model Update*>}"
      ]
     },
     "execution_count": 14,
     "metadata": {},
     "output_type": "execute_result"
    }
   ],
   "source": [
    "model.addConstrs(( startTime[job] ==  quicksum(decisionVariable[job ,time] * time for time in timeSlots)  for job in jobs) , name =\"Start Time\")"
   ]
  },
  {
   "cell_type": "markdown",
   "metadata": {},
   "source": [
    "$$s_i \\geq r_i$$"
   ]
  },
  {
   "cell_type": "code",
   "execution_count": 15,
   "metadata": {},
   "outputs": [
    {
     "data": {
      "text/plain": [
       "{'Job1': <gurobi.Constr *Awaiting Model Update*>,\n",
       " 'Job2': <gurobi.Constr *Awaiting Model Update*>,\n",
       " 'Job3': <gurobi.Constr *Awaiting Model Update*>}"
      ]
     },
     "execution_count": 15,
     "metadata": {},
     "output_type": "execute_result"
    }
   ],
   "source": [
    "model.addConstrs((startTime[job] >= jobs_details[job][\"r\"]  for job in jobs), name =\"Start Time Limit\")"
   ]
  },
  {
   "cell_type": "markdown",
   "metadata": {},
   "source": [
    "$$s_i + t_i \\leq d_i$$"
   ]
  },
  {
   "cell_type": "code",
   "execution_count": 16,
   "metadata": {
    "scrolled": true
   },
   "outputs": [
    {
     "data": {
      "text/plain": [
       "{'Job1': <gurobi.Constr *Awaiting Model Update*>,\n",
       " 'Job2': <gurobi.Constr *Awaiting Model Update*>,\n",
       " 'Job3': <gurobi.Constr *Awaiting Model Update*>}"
      ]
     },
     "execution_count": 16,
     "metadata": {},
     "output_type": "execute_result"
    }
   ],
   "source": [
    "model.addConstrs((startTime[job] + jobs_details[job][\"t\"] <= jobs_details[job][\"d\"] for job in jobs), name =\"Deadline Limit\")"
   ]
  },
  {
   "cell_type": "markdown",
   "metadata": {},
   "source": [
    "$$f_i = s_i + t_i$$"
   ]
  },
  {
   "cell_type": "code",
   "execution_count": 17,
   "metadata": {},
   "outputs": [
    {
     "data": {
      "text/plain": [
       "{'Job1': <gurobi.Constr *Awaiting Model Update*>,\n",
       " 'Job2': <gurobi.Constr *Awaiting Model Update*>,\n",
       " 'Job3': <gurobi.Constr *Awaiting Model Update*>}"
      ]
     },
     "execution_count": 17,
     "metadata": {},
     "output_type": "execute_result"
    }
   ],
   "source": [
    "model.addConstrs(( finishTime[job]  == (jobs_details[job][\"t\"] + startTime[job])  for job in jobs), name =\"Finish Limit\")"
   ]
  },
  {
   "cell_type": "markdown",
   "metadata": {},
   "source": [
    "#### Total load at time t\n",
    "$$U_t = \\underset{i}\\sum(u_i*\\underset{t-t_{i} < t^{'} \\leq t }\\sum  x_i(t^{'})) $$ "
   ]
  },
  {
   "cell_type": "code",
   "execution_count": 18,
   "metadata": {},
   "outputs": [
    {
     "data": {
      "text/plain": [
       "{'0': <gurobi.Constr *Awaiting Model Update*>,\n",
       " '1': <gurobi.Constr *Awaiting Model Update*>,\n",
       " '2': <gurobi.Constr *Awaiting Model Update*>,\n",
       " '3': <gurobi.Constr *Awaiting Model Update*>,\n",
       " '4': <gurobi.Constr *Awaiting Model Update*>,\n",
       " '5': <gurobi.Constr *Awaiting Model Update*>,\n",
       " '6': <gurobi.Constr *Awaiting Model Update*>,\n",
       " '7': <gurobi.Constr *Awaiting Model Update*>,\n",
       " '8': <gurobi.Constr *Awaiting Model Update*>,\n",
       " '9': <gurobi.Constr *Awaiting Model Update*>,\n",
       " '10': <gurobi.Constr *Awaiting Model Update*>,\n",
       " '11': <gurobi.Constr *Awaiting Model Update*>}"
      ]
     },
     "execution_count": 18,
     "metadata": {},
     "output_type": "execute_result"
    }
   ],
   "source": [
    "model.addConstrs(( totalLoad[time]  == quicksum(jobs_details[job][\"u\"] * quicksum(decisionVariable[job,t] for t in timeSlots if ( float(t) > (float(time) - jobs_details[job]['t']) and float(t) <= float(time) )) for job in jobs ) for time in timeSlots ), name = \"Total Load at time t\")"
   ]
  },
  {
   "cell_type": "markdown",
   "metadata": {},
   "source": [
    "#### Dependency Constraint\n",
    "\n",
    "A job should not start before its predecessor finishes\n",
    "\n",
    "$$ s_j + t_j \\leq s_i \\;\\;\\;\\;  \\forall j \\;of \\;p_i^{in} $$"
   ]
  },
  {
   "cell_type": "code",
   "execution_count": 19,
   "metadata": {},
   "outputs": [],
   "source": [
    "for job in jobs:\n",
    "    model.addConstrs(((startTime[predes]+ jobs_details[predes][\"t\"] <= startTime[job]) for predes in jobs_predessors[job]), name = \"Dependency Constraint\")"
   ]
  },
  {
   "cell_type": "markdown",
   "metadata": {},
   "source": [
    "#### Maximum load\n",
    "$$(\\underset{t}{max} \\; U_t)$$"
   ]
  },
  {
   "cell_type": "code",
   "execution_count": 20,
   "metadata": {},
   "outputs": [
    {
     "data": {
      "text/plain": [
       "{'0': <gurobi.Constr *Awaiting Model Update*>,\n",
       " '1': <gurobi.Constr *Awaiting Model Update*>,\n",
       " '2': <gurobi.Constr *Awaiting Model Update*>,\n",
       " '3': <gurobi.Constr *Awaiting Model Update*>,\n",
       " '4': <gurobi.Constr *Awaiting Model Update*>,\n",
       " '5': <gurobi.Constr *Awaiting Model Update*>,\n",
       " '6': <gurobi.Constr *Awaiting Model Update*>,\n",
       " '7': <gurobi.Constr *Awaiting Model Update*>,\n",
       " '8': <gurobi.Constr *Awaiting Model Update*>,\n",
       " '9': <gurobi.Constr *Awaiting Model Update*>,\n",
       " '10': <gurobi.Constr *Awaiting Model Update*>,\n",
       " '11': <gurobi.Constr *Awaiting Model Update*>}"
      ]
     },
     "execution_count": 20,
     "metadata": {},
     "output_type": "execute_result"
    }
   ],
   "source": [
    "model.addConstrs(( maximumLoad >= totalLoad[time] for time in  timeSlots), name = \"Maximum Load\")"
   ]
  },
  {
   "cell_type": "markdown",
   "metadata": {},
   "source": [
    "### Objective Function\n",
    "\n",
    "$$min \\; (\\underset{t}{max} \\; U_t)$$"
   ]
  },
  {
   "cell_type": "code",
   "execution_count": 21,
   "metadata": {},
   "outputs": [],
   "source": [
    "obj = maximumLoad"
   ]
  },
  {
   "cell_type": "code",
   "execution_count": 22,
   "metadata": {},
   "outputs": [],
   "source": [
    "model.setObjective(obj, GRB.MINIMIZE)"
   ]
  },
  {
   "cell_type": "code",
   "execution_count": 23,
   "metadata": {},
   "outputs": [
    {
     "name": "stdout",
     "output_type": "stream",
     "text": [
      "Gurobi Optimizer version 9.0.1 build v9.0.1rc0 (win64)\n",
      "Optimize a model with 41 rows, 55 columns and 249 nonzeros\n",
      "Model fingerprint: 0x6ce19c90\n",
      "Variable types: 13 continuous, 42 integer (36 binary)\n",
      "Coefficient statistics:\n",
      "  Matrix range     [1e+00, 1e+01]\n",
      "  Objective range  [1e+00, 1e+00]\n",
      "  Bounds range     [1e+00, 1e+00]\n",
      "  RHS range        [1e+00, 8e+00]\n",
      "Presolve removed 41 rows and 55 columns\n",
      "Presolve time: 0.00s\n",
      "Presolve: All rows and columns removed\n",
      "\n",
      "Explored 0 nodes (0 simplex iterations) in 0.01 seconds\n",
      "Thread count was 1 (of 8 available processors)\n",
      "\n",
      "Solution count 1: 11 \n",
      "\n",
      "Optimal solution found (tolerance 1.00e-04)\n",
      "Best objective 1.100000000000e+01, best bound 1.100000000000e+01, gap 0.0000%\n"
     ]
    }
   ],
   "source": [
    "model.optimize()"
   ]
  },
  {
   "cell_type": "code",
   "execution_count": 24,
   "metadata": {
    "scrolled": true
   },
   "outputs": [
    {
     "data": {
      "text/html": [
       "<h1>Jobs Schedule</h1><table><tr><td></td><td><b>Start Time</b></td><td><b>FinishTime</b><tr><td><b>Job1</b></td><td style='text-align: right'><b>1.0</b><br/></td><td style='text-align: right'><b>5.0</b><br/></td></tr><tr><td><b>Job2</b></td><td style='text-align: right'><b>4.0</b><br/></td><td style='text-align: right'><b>7.0</b><br/></td></tr><tr><td><b>Job3</b></td><td style='text-align: right'><b>7.0</b><br/></td><td style='text-align: right'><b>12.0</b><br/></td></tr></table>"
      ],
      "text/plain": [
       "<IPython.core.display.HTML object>"
      ]
     },
     "metadata": {},
     "output_type": "display_data"
    }
   ],
   "source": [
    "output = \"<h1>Jobs Schedule</h1><table><tr><td></td><td><b>Start Time</b></td><td><b>FinishTime</b>\"\n",
    "\n",
    "for job in jobs:\n",
    "\n",
    "    output += \"<tr><td><b>{}</b></td><td style='text-align: right'>\".format(job)\n",
    "    \n",
    "    # Start Time\n",
    "    output += \"<b>{:.1f}</b><br/>\".format( startTime[job].X)\n",
    "    \n",
    "    # finish Time\n",
    "    output += \"</td><td style='text-align: right'>\"\n",
    "    output += \"<b>{:.1f}</b><br/>\".format( finishTime[job].X)\n",
    "    \n",
    "    output += \"</td></tr>\"\n",
    "    \n",
    "output += \"</table>\"\n",
    "\n",
    "\n",
    "from IPython.display import HTML, display\n",
    "display(HTML(output))"
   ]
  },
  {
   "cell_type": "code",
   "execution_count": 25,
   "metadata": {},
   "outputs": [
    {
     "data": {
      "text/html": [
       "<h1>Total Load at time t</h1><table><tr><td></td><td><b>0</b><td></td><td><b>1</b><td></td><td><b>2</b><td></td><td><b>3</b><td></td><td><b>4</b><td></td><td><b>5</b><td></td><td><b>6</b><td></td><td><b>7</b><td></td><td><b>8</b><td></td><td><b>9</b><td></td><td><b>10</b><td></td><td><b>11</b><td></tr><tr><td></td><td>0.0<td></td><td>6.0<td></td><td>6.0<td></td><td>6.0<td></td><td>11.0<td></td><td>5.0<td></td><td>5.0<td></td><td>7.0<td></td><td>7.0<td></td><td>7.0<td></td><td>7.0<td></td><td>7.0</tr></table>"
      ],
      "text/plain": [
       "<IPython.core.display.HTML object>"
      ]
     },
     "metadata": {},
     "output_type": "display_data"
    }
   ],
   "source": [
    "topBar = \"<h1>Total Load at time t</h1><table><tr>\"\n",
    "for t in timeSlots:\n",
    "    topBar = topBar + \"<td></td><td><b>{0:s}</b>\".format(t)\n",
    "output = topBar + \"<td></tr>\"\n",
    "\n",
    "# Load\n",
    "lowerBar = \"<tr>\"\n",
    "for t in timeSlots:\n",
    "     lowerBar += \"<td></td><td>{0:.1f}\".format(totalLoad[t].X)\n",
    "    #output += \"<td style='text-align: right'>\"\n",
    "    #output += \"<b>{:.1f}</b><br/>\".format( totalLoad[t].X)\n",
    "\n",
    "    \n",
    "output =  output + lowerBar + \"</tr>\" \n",
    "output += \"</table>\"\n",
    "\n",
    "\n",
    "from IPython.display import HTML, display\n",
    "display(HTML(output))"
   ]
  },
  {
   "cell_type": "code",
   "execution_count": null,
   "metadata": {},
   "outputs": [],
   "source": []
  }
 ],
 "metadata": {
  "kernelspec": {
   "display_name": "Python 3",
   "language": "python",
   "name": "python3"
  },
  "language_info": {
   "codemirror_mode": {
    "name": "ipython",
    "version": 3
   },
   "file_extension": ".py",
   "mimetype": "text/x-python",
   "name": "python",
   "nbconvert_exporter": "python",
   "pygments_lexer": "ipython3",
   "version": "3.7.1"
  }
 },
 "nbformat": 4,
 "nbformat_minor": 2
}
